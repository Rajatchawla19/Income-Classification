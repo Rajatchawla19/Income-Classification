{
  "nbformat": 4,
  "nbformat_minor": 0,
  "metadata": {
    "colab": {
      "name": "Census Income Classification.ipynb",
      "provenance": [],
      "collapsed_sections": []
    },
    "kernelspec": {
      "name": "python3",
      "display_name": "Python 3"
    }
  },
  "cells": [
    {
      "cell_type": "markdown",
      "metadata": {
        "id": "dkuRetKxqPKQ"
      },
      "source": [
        "\n",
        "# **Objective**\n",
        "The objective of this task is to develop an end-to-end data mining project by using the machine learning library\n",
        "Scikit-Learn in Python. The output of the project is a classification model that predict whether the incomes\n",
        "exceed $50K/yr based on census data."
      ]
    },
    {
      "cell_type": "markdown",
      "metadata": {
        "id": "UmF_0f2bqcu-"
      },
      "source": [
        "# Importing the Dependencies"
      ]
    },
    {
      "cell_type": "code",
      "metadata": {
        "id": "rH416myIasKv"
      },
      "source": [
        "import numpy as np # For doing numerical operations\n",
        "import pandas as pd # For loading and manipulating dataframes\n",
        "import matplotlib.pyplot as plt # For graphics\n",
        "import seaborn as sns # For graphics\n",
        "import joblib # For exporting model for deployment\n",
        "sns.set(style='white', context='notebook', palette='deep')\n",
        "\n",
        "import warnings # Remove any warnings if we get any\n",
        "warnings.filterwarnings('ignore')\n",
        "\n",
        "from sklearn.model_selection import train_test_split # To split the dataset\n",
        "from sklearn.preprocessing import LabelEncoder, StandardScaler # To deal with Categorical features and normalization\n",
        "from sklearn.linear_model import LogisticRegression \n",
        "from sklearn.naive_bayes import GaussianNB\n",
        "from sklearn.neighbors import KNeighborsClassifier\n",
        "from sklearn.metrics import classification_report, confusion_matrix # For evaluation of the model\n",
        "from sklearn.model_selection import GridSearchCV # For fine-tuning the model"
      ],
      "execution_count": 28,
      "outputs": []
    },
    {
      "cell_type": "markdown",
      "metadata": {
        "id": "Uv_3pPdmrCTu"
      },
      "source": [
        "# Loading Dataset"
      ]
    },
    {
      "cell_type": "code",
      "source": [
        "df = pd.read_csv('adult.csv')\n",
        "df.head() # Printing first 5 rows of data"
      ],
      "metadata": {
        "colab": {
          "base_uri": "https://localhost:8080/",
          "height": 206
        },
        "id": "P0cHnvHODYOo",
        "outputId": "a038bbc7-a482-4773-8f66-b3c4d5fbeb11"
      },
      "execution_count": 29,
      "outputs": [
        {
          "output_type": "execute_result",
          "data": {
            "text/html": [
              "\n",
              "  <div id=\"df-58cdee89-251d-4e00-bdc0-d188dd5ffad6\">\n",
              "    <div class=\"colab-df-container\">\n",
              "      <div>\n",
              "<style scoped>\n",
              "    .dataframe tbody tr th:only-of-type {\n",
              "        vertical-align: middle;\n",
              "    }\n",
              "\n",
              "    .dataframe tbody tr th {\n",
              "        vertical-align: top;\n",
              "    }\n",
              "\n",
              "    .dataframe thead th {\n",
              "        text-align: right;\n",
              "    }\n",
              "</style>\n",
              "<table border=\"1\" class=\"dataframe\">\n",
              "  <thead>\n",
              "    <tr style=\"text-align: right;\">\n",
              "      <th></th>\n",
              "      <th>age</th>\n",
              "      <th>workclass</th>\n",
              "      <th>fnlwgt</th>\n",
              "      <th>education</th>\n",
              "      <th>educational-num</th>\n",
              "      <th>marital-status</th>\n",
              "      <th>occupation</th>\n",
              "      <th>relationship</th>\n",
              "      <th>race</th>\n",
              "      <th>gender</th>\n",
              "      <th>capital-gain</th>\n",
              "      <th>capital-loss</th>\n",
              "      <th>hours-per-week</th>\n",
              "      <th>native-country</th>\n",
              "      <th>income</th>\n",
              "    </tr>\n",
              "  </thead>\n",
              "  <tbody>\n",
              "    <tr>\n",
              "      <th>0</th>\n",
              "      <td>25</td>\n",
              "      <td>Private</td>\n",
              "      <td>226802</td>\n",
              "      <td>11th</td>\n",
              "      <td>7</td>\n",
              "      <td>Never-married</td>\n",
              "      <td>Machine-op-inspct</td>\n",
              "      <td>Own-child</td>\n",
              "      <td>Black</td>\n",
              "      <td>Male</td>\n",
              "      <td>0</td>\n",
              "      <td>0</td>\n",
              "      <td>40</td>\n",
              "      <td>United-States</td>\n",
              "      <td>&lt;=50K</td>\n",
              "    </tr>\n",
              "    <tr>\n",
              "      <th>1</th>\n",
              "      <td>38</td>\n",
              "      <td>Private</td>\n",
              "      <td>89814</td>\n",
              "      <td>HS-grad</td>\n",
              "      <td>9</td>\n",
              "      <td>Married-civ-spouse</td>\n",
              "      <td>Farming-fishing</td>\n",
              "      <td>Husband</td>\n",
              "      <td>White</td>\n",
              "      <td>Male</td>\n",
              "      <td>0</td>\n",
              "      <td>0</td>\n",
              "      <td>50</td>\n",
              "      <td>United-States</td>\n",
              "      <td>&lt;=50K</td>\n",
              "    </tr>\n",
              "    <tr>\n",
              "      <th>2</th>\n",
              "      <td>28</td>\n",
              "      <td>Local-gov</td>\n",
              "      <td>336951</td>\n",
              "      <td>Assoc-acdm</td>\n",
              "      <td>12</td>\n",
              "      <td>Married-civ-spouse</td>\n",
              "      <td>Protective-serv</td>\n",
              "      <td>Husband</td>\n",
              "      <td>White</td>\n",
              "      <td>Male</td>\n",
              "      <td>0</td>\n",
              "      <td>0</td>\n",
              "      <td>40</td>\n",
              "      <td>United-States</td>\n",
              "      <td>&gt;50K</td>\n",
              "    </tr>\n",
              "    <tr>\n",
              "      <th>3</th>\n",
              "      <td>44</td>\n",
              "      <td>Private</td>\n",
              "      <td>160323</td>\n",
              "      <td>Some-college</td>\n",
              "      <td>10</td>\n",
              "      <td>Married-civ-spouse</td>\n",
              "      <td>Machine-op-inspct</td>\n",
              "      <td>Husband</td>\n",
              "      <td>Black</td>\n",
              "      <td>Male</td>\n",
              "      <td>7688</td>\n",
              "      <td>0</td>\n",
              "      <td>40</td>\n",
              "      <td>United-States</td>\n",
              "      <td>&gt;50K</td>\n",
              "    </tr>\n",
              "    <tr>\n",
              "      <th>4</th>\n",
              "      <td>18</td>\n",
              "      <td>?</td>\n",
              "      <td>103497</td>\n",
              "      <td>Some-college</td>\n",
              "      <td>10</td>\n",
              "      <td>Never-married</td>\n",
              "      <td>?</td>\n",
              "      <td>Own-child</td>\n",
              "      <td>White</td>\n",
              "      <td>Female</td>\n",
              "      <td>0</td>\n",
              "      <td>0</td>\n",
              "      <td>30</td>\n",
              "      <td>United-States</td>\n",
              "      <td>&lt;=50K</td>\n",
              "    </tr>\n",
              "  </tbody>\n",
              "</table>\n",
              "</div>\n",
              "      <button class=\"colab-df-convert\" onclick=\"convertToInteractive('df-58cdee89-251d-4e00-bdc0-d188dd5ffad6')\"\n",
              "              title=\"Convert this dataframe to an interactive table.\"\n",
              "              style=\"display:none;\">\n",
              "        \n",
              "  <svg xmlns=\"http://www.w3.org/2000/svg\" height=\"24px\"viewBox=\"0 0 24 24\"\n",
              "       width=\"24px\">\n",
              "    <path d=\"M0 0h24v24H0V0z\" fill=\"none\"/>\n",
              "    <path d=\"M18.56 5.44l.94 2.06.94-2.06 2.06-.94-2.06-.94-.94-2.06-.94 2.06-2.06.94zm-11 1L8.5 8.5l.94-2.06 2.06-.94-2.06-.94L8.5 2.5l-.94 2.06-2.06.94zm10 10l.94 2.06.94-2.06 2.06-.94-2.06-.94-.94-2.06-.94 2.06-2.06.94z\"/><path d=\"M17.41 7.96l-1.37-1.37c-.4-.4-.92-.59-1.43-.59-.52 0-1.04.2-1.43.59L10.3 9.45l-7.72 7.72c-.78.78-.78 2.05 0 2.83L4 21.41c.39.39.9.59 1.41.59.51 0 1.02-.2 1.41-.59l7.78-7.78 2.81-2.81c.8-.78.8-2.07 0-2.86zM5.41 20L4 18.59l7.72-7.72 1.47 1.35L5.41 20z\"/>\n",
              "  </svg>\n",
              "      </button>\n",
              "      \n",
              "  <style>\n",
              "    .colab-df-container {\n",
              "      display:flex;\n",
              "      flex-wrap:wrap;\n",
              "      gap: 12px;\n",
              "    }\n",
              "\n",
              "    .colab-df-convert {\n",
              "      background-color: #E8F0FE;\n",
              "      border: none;\n",
              "      border-radius: 50%;\n",
              "      cursor: pointer;\n",
              "      display: none;\n",
              "      fill: #1967D2;\n",
              "      height: 32px;\n",
              "      padding: 0 0 0 0;\n",
              "      width: 32px;\n",
              "    }\n",
              "\n",
              "    .colab-df-convert:hover {\n",
              "      background-color: #E2EBFA;\n",
              "      box-shadow: 0px 1px 2px rgba(60, 64, 67, 0.3), 0px 1px 3px 1px rgba(60, 64, 67, 0.15);\n",
              "      fill: #174EA6;\n",
              "    }\n",
              "\n",
              "    [theme=dark] .colab-df-convert {\n",
              "      background-color: #3B4455;\n",
              "      fill: #D2E3FC;\n",
              "    }\n",
              "\n",
              "    [theme=dark] .colab-df-convert:hover {\n",
              "      background-color: #434B5C;\n",
              "      box-shadow: 0px 1px 3px 1px rgba(0, 0, 0, 0.15);\n",
              "      filter: drop-shadow(0px 1px 2px rgba(0, 0, 0, 0.3));\n",
              "      fill: #FFFFFF;\n",
              "    }\n",
              "  </style>\n",
              "\n",
              "      <script>\n",
              "        const buttonEl =\n",
              "          document.querySelector('#df-58cdee89-251d-4e00-bdc0-d188dd5ffad6 button.colab-df-convert');\n",
              "        buttonEl.style.display =\n",
              "          google.colab.kernel.accessAllowed ? 'block' : 'none';\n",
              "\n",
              "        async function convertToInteractive(key) {\n",
              "          const element = document.querySelector('#df-58cdee89-251d-4e00-bdc0-d188dd5ffad6');\n",
              "          const dataTable =\n",
              "            await google.colab.kernel.invokeFunction('convertToInteractive',\n",
              "                                                     [key], {});\n",
              "          if (!dataTable) return;\n",
              "\n",
              "          const docLinkHtml = 'Like what you see? Visit the ' +\n",
              "            '<a target=\"_blank\" href=https://colab.research.google.com/notebooks/data_table.ipynb>data table notebook</a>'\n",
              "            + ' to learn more about interactive tables.';\n",
              "          element.innerHTML = '';\n",
              "          dataTable['output_type'] = 'display_data';\n",
              "          await google.colab.output.renderOutput(dataTable, element);\n",
              "          const docLink = document.createElement('div');\n",
              "          docLink.innerHTML = docLinkHtml;\n",
              "          element.appendChild(docLink);\n",
              "        }\n",
              "      </script>\n",
              "    </div>\n",
              "  </div>\n",
              "  "
            ],
            "text/plain": [
              "   age  workclass  fnlwgt  ... hours-per-week  native-country income\n",
              "0   25    Private  226802  ...             40   United-States  <=50K\n",
              "1   38    Private   89814  ...             50   United-States  <=50K\n",
              "2   28  Local-gov  336951  ...             40   United-States   >50K\n",
              "3   44    Private  160323  ...             40   United-States   >50K\n",
              "4   18          ?  103497  ...             30   United-States  <=50K\n",
              "\n",
              "[5 rows x 15 columns]"
            ]
          },
          "metadata": {},
          "execution_count": 29
        }
      ]
    },
    {
      "cell_type": "markdown",
      "metadata": {
        "id": "DJaIta9XrlBJ"
      },
      "source": [
        "# Dealing with Missing Values"
      ]
    },
    {
      "cell_type": "code",
      "metadata": {
        "colab": {
          "base_uri": "https://localhost:8080/"
        },
        "id": "RN3-GMGBbhxt",
        "outputId": "44cc11c7-d263-4135-f837-c5c858fe3f78"
      },
      "source": [
        "df.isna().sum() # Checking for null (missing) values"
      ],
      "execution_count": 30,
      "outputs": [
        {
          "output_type": "execute_result",
          "data": {
            "text/plain": [
              "age                0\n",
              "workclass          0\n",
              "fnlwgt             0\n",
              "education          0\n",
              "educational-num    0\n",
              "marital-status     0\n",
              "occupation         0\n",
              "relationship       0\n",
              "race               0\n",
              "gender             0\n",
              "capital-gain       0\n",
              "capital-loss       0\n",
              "hours-per-week     0\n",
              "native-country     0\n",
              "income             0\n",
              "dtype: int64"
            ]
          },
          "metadata": {},
          "execution_count": 30
        }
      ]
    },
    {
      "cell_type": "markdown",
      "metadata": {
        "id": "Okx0eoyDr9qZ"
      },
      "source": [
        "From the above result its showing that there are no null values but we can clearly see the missing values in the head of the data above. Missing values are marked with '?' so we need to map all '?' to NaN values"
      ]
    },
    {
      "cell_type": "code",
      "metadata": {
        "id": "o_JZM3UCa03r"
      },
      "source": [
        "df[df == '?'] = np.nan # Mapping '?' to NaN"
      ],
      "execution_count": 31,
      "outputs": []
    },
    {
      "cell_type": "code",
      "metadata": {
        "colab": {
          "base_uri": "https://localhost:8080/"
        },
        "id": "n4w7FpBNcZ7k",
        "outputId": "06e34217-2308-4f54-a3fd-954f588cfed4"
      },
      "source": [
        "df.isna().sum() # Now checking again for missing data"
      ],
      "execution_count": 32,
      "outputs": [
        {
          "output_type": "execute_result",
          "data": {
            "text/plain": [
              "age                   0\n",
              "workclass          2799\n",
              "fnlwgt                0\n",
              "education             0\n",
              "educational-num       0\n",
              "marital-status        0\n",
              "occupation         2809\n",
              "relationship          0\n",
              "race                  0\n",
              "gender                0\n",
              "capital-gain          0\n",
              "capital-loss          0\n",
              "hours-per-week        0\n",
              "native-country      857\n",
              "income                0\n",
              "dtype: int64"
            ]
          },
          "metadata": {},
          "execution_count": 32
        }
      ]
    },
    {
      "cell_type": "markdown",
      "metadata": {
        "id": "wdvY6oK6sn6l"
      },
      "source": [
        "Now we can clearly see that 3 of our features has missing values. Upon seeing the data head we notice that these 3 features are categorical in nature so we can fill the missing values with the most frequent ones (Mode of the column)"
      ]
    },
    {
      "cell_type": "code",
      "metadata": {
        "id": "M4WtKRzviNEZ"
      },
      "source": [
        "### Filling the missing values with the most frequent value (Mode)\n",
        "\n",
        "for col in ['workclass', 'occupation', 'native-country']:\n",
        "    df[col].fillna(df[col].mode()[0], inplace=True)"
      ],
      "execution_count": 33,
      "outputs": []
    },
    {
      "cell_type": "code",
      "metadata": {
        "colab": {
          "base_uri": "https://localhost:8080/"
        },
        "id": "gXtq19e8tEm2",
        "outputId": "c6d46843-275b-49c6-a46e-f88e0eef8959"
      },
      "source": [
        "df.isna().sum() # Now checking again for missing data"
      ],
      "execution_count": 34,
      "outputs": [
        {
          "output_type": "execute_result",
          "data": {
            "text/plain": [
              "age                0\n",
              "workclass          0\n",
              "fnlwgt             0\n",
              "education          0\n",
              "educational-num    0\n",
              "marital-status     0\n",
              "occupation         0\n",
              "relationship       0\n",
              "race               0\n",
              "gender             0\n",
              "capital-gain       0\n",
              "capital-loss       0\n",
              "hours-per-week     0\n",
              "native-country     0\n",
              "income             0\n",
              "dtype: int64"
            ]
          },
          "metadata": {},
          "execution_count": 34
        }
      ]
    },
    {
      "cell_type": "markdown",
      "metadata": {
        "id": "fWRg9srFtGO3"
      },
      "source": [
        "We have successfully dealt with the missing data. Data set is ready to be explored."
      ]
    },
    {
      "cell_type": "markdown",
      "metadata": {
        "id": "fy0hRwNHtQ_5"
      },
      "source": [
        "# Discover and Visualize the Data"
      ]
    },
    {
      "cell_type": "markdown",
      "metadata": {
        "id": "V02uoG6KvnPy"
      },
      "source": [
        "## *Data Statistics*"
      ]
    },
    {
      "cell_type": "code",
      "metadata": {
        "colab": {
          "base_uri": "https://localhost:8080/"
        },
        "id": "TatKmVZcrv21",
        "outputId": "8dbda2f1-e68b-4595-d361-a3f8b92f73b0"
      },
      "source": [
        "df.shape # Printing shape of the data"
      ],
      "execution_count": 35,
      "outputs": [
        {
          "output_type": "execute_result",
          "data": {
            "text/plain": [
              "(48842, 15)"
            ]
          },
          "metadata": {},
          "execution_count": 35
        }
      ]
    },
    {
      "cell_type": "markdown",
      "metadata": {
        "id": "th6Z1tPftcDs"
      },
      "source": [
        "The final shape of the pre-processed data is (48842, 15)"
      ]
    },
    {
      "cell_type": "code",
      "source": [
        "# Unique value of eachcategoritcal features\n",
        "\n",
        "for col in ['workclass', 'education', 'marital-status', 'occupation', 'relationship', 'race', 'gender', 'native-country']:\n",
        "    print(df[col].unique())"
      ],
      "metadata": {
        "colab": {
          "base_uri": "https://localhost:8080/"
        },
        "id": "e7n8KsV0nUcj",
        "outputId": "19be4692-b03e-48ca-e75f-f307ea98d7a1"
      },
      "execution_count": 36,
      "outputs": [
        {
          "output_type": "stream",
          "name": "stdout",
          "text": [
            "['Private' 'Local-gov' 'Self-emp-not-inc' 'Federal-gov' 'State-gov'\n",
            " 'Self-emp-inc' 'Without-pay' 'Never-worked']\n",
            "['11th' 'HS-grad' 'Assoc-acdm' 'Some-college' '10th' 'Prof-school'\n",
            " '7th-8th' 'Bachelors' 'Masters' 'Doctorate' '5th-6th' 'Assoc-voc' '9th'\n",
            " '12th' '1st-4th' 'Preschool']\n",
            "['Never-married' 'Married-civ-spouse' 'Widowed' 'Divorced' 'Separated'\n",
            " 'Married-spouse-absent' 'Married-AF-spouse']\n",
            "['Machine-op-inspct' 'Farming-fishing' 'Protective-serv' 'Prof-specialty'\n",
            " 'Other-service' 'Craft-repair' 'Adm-clerical' 'Exec-managerial'\n",
            " 'Tech-support' 'Sales' 'Priv-house-serv' 'Transport-moving'\n",
            " 'Handlers-cleaners' 'Armed-Forces']\n",
            "['Own-child' 'Husband' 'Not-in-family' 'Unmarried' 'Wife' 'Other-relative']\n",
            "['Black' 'White' 'Asian-Pac-Islander' 'Other' 'Amer-Indian-Eskimo']\n",
            "['Male' 'Female']\n",
            "['United-States' 'Peru' 'Guatemala' 'Mexico' 'Dominican-Republic'\n",
            " 'Ireland' 'Germany' 'Philippines' 'Thailand' 'Haiti' 'El-Salvador'\n",
            " 'Puerto-Rico' 'Vietnam' 'South' 'Columbia' 'Japan' 'India' 'Cambodia'\n",
            " 'Poland' 'Laos' 'England' 'Cuba' 'Taiwan' 'Italy' 'Canada' 'Portugal'\n",
            " 'China' 'Nicaragua' 'Honduras' 'Iran' 'Scotland' 'Jamaica' 'Ecuador'\n",
            " 'Yugoslavia' 'Hungary' 'Hong' 'Greece' 'Trinadad&Tobago'\n",
            " 'Outlying-US(Guam-USVI-etc)' 'France' 'Holand-Netherlands']\n"
          ]
        }
      ]
    },
    {
      "cell_type": "code",
      "metadata": {
        "colab": {
          "base_uri": "https://localhost:8080/",
          "height": 237
        },
        "id": "IcMFrz_itj3Q",
        "outputId": "f63f7fbf-b86a-4cd0-dd10-915825c96016"
      },
      "source": [
        "df.describe().T # Discovering statistics about the data"
      ],
      "execution_count": 37,
      "outputs": [
        {
          "output_type": "execute_result",
          "data": {
            "text/html": [
              "\n",
              "  <div id=\"df-2b47ae1f-3a99-4d79-93a6-f8ea808b6ec2\">\n",
              "    <div class=\"colab-df-container\">\n",
              "      <div>\n",
              "<style scoped>\n",
              "    .dataframe tbody tr th:only-of-type {\n",
              "        vertical-align: middle;\n",
              "    }\n",
              "\n",
              "    .dataframe tbody tr th {\n",
              "        vertical-align: top;\n",
              "    }\n",
              "\n",
              "    .dataframe thead th {\n",
              "        text-align: right;\n",
              "    }\n",
              "</style>\n",
              "<table border=\"1\" class=\"dataframe\">\n",
              "  <thead>\n",
              "    <tr style=\"text-align: right;\">\n",
              "      <th></th>\n",
              "      <th>count</th>\n",
              "      <th>mean</th>\n",
              "      <th>std</th>\n",
              "      <th>min</th>\n",
              "      <th>25%</th>\n",
              "      <th>50%</th>\n",
              "      <th>75%</th>\n",
              "      <th>max</th>\n",
              "    </tr>\n",
              "  </thead>\n",
              "  <tbody>\n",
              "    <tr>\n",
              "      <th>age</th>\n",
              "      <td>48842.0</td>\n",
              "      <td>38.643585</td>\n",
              "      <td>13.710510</td>\n",
              "      <td>17.0</td>\n",
              "      <td>28.0</td>\n",
              "      <td>37.0</td>\n",
              "      <td>48.0</td>\n",
              "      <td>90.0</td>\n",
              "    </tr>\n",
              "    <tr>\n",
              "      <th>fnlwgt</th>\n",
              "      <td>48842.0</td>\n",
              "      <td>189664.134597</td>\n",
              "      <td>105604.025423</td>\n",
              "      <td>12285.0</td>\n",
              "      <td>117550.5</td>\n",
              "      <td>178144.5</td>\n",
              "      <td>237642.0</td>\n",
              "      <td>1490400.0</td>\n",
              "    </tr>\n",
              "    <tr>\n",
              "      <th>educational-num</th>\n",
              "      <td>48842.0</td>\n",
              "      <td>10.078089</td>\n",
              "      <td>2.570973</td>\n",
              "      <td>1.0</td>\n",
              "      <td>9.0</td>\n",
              "      <td>10.0</td>\n",
              "      <td>12.0</td>\n",
              "      <td>16.0</td>\n",
              "    </tr>\n",
              "    <tr>\n",
              "      <th>capital-gain</th>\n",
              "      <td>48842.0</td>\n",
              "      <td>1079.067626</td>\n",
              "      <td>7452.019058</td>\n",
              "      <td>0.0</td>\n",
              "      <td>0.0</td>\n",
              "      <td>0.0</td>\n",
              "      <td>0.0</td>\n",
              "      <td>99999.0</td>\n",
              "    </tr>\n",
              "    <tr>\n",
              "      <th>capital-loss</th>\n",
              "      <td>48842.0</td>\n",
              "      <td>87.502314</td>\n",
              "      <td>403.004552</td>\n",
              "      <td>0.0</td>\n",
              "      <td>0.0</td>\n",
              "      <td>0.0</td>\n",
              "      <td>0.0</td>\n",
              "      <td>4356.0</td>\n",
              "    </tr>\n",
              "    <tr>\n",
              "      <th>hours-per-week</th>\n",
              "      <td>48842.0</td>\n",
              "      <td>40.422382</td>\n",
              "      <td>12.391444</td>\n",
              "      <td>1.0</td>\n",
              "      <td>40.0</td>\n",
              "      <td>40.0</td>\n",
              "      <td>45.0</td>\n",
              "      <td>99.0</td>\n",
              "    </tr>\n",
              "  </tbody>\n",
              "</table>\n",
              "</div>\n",
              "      <button class=\"colab-df-convert\" onclick=\"convertToInteractive('df-2b47ae1f-3a99-4d79-93a6-f8ea808b6ec2')\"\n",
              "              title=\"Convert this dataframe to an interactive table.\"\n",
              "              style=\"display:none;\">\n",
              "        \n",
              "  <svg xmlns=\"http://www.w3.org/2000/svg\" height=\"24px\"viewBox=\"0 0 24 24\"\n",
              "       width=\"24px\">\n",
              "    <path d=\"M0 0h24v24H0V0z\" fill=\"none\"/>\n",
              "    <path d=\"M18.56 5.44l.94 2.06.94-2.06 2.06-.94-2.06-.94-.94-2.06-.94 2.06-2.06.94zm-11 1L8.5 8.5l.94-2.06 2.06-.94-2.06-.94L8.5 2.5l-.94 2.06-2.06.94zm10 10l.94 2.06.94-2.06 2.06-.94-2.06-.94-.94-2.06-.94 2.06-2.06.94z\"/><path d=\"M17.41 7.96l-1.37-1.37c-.4-.4-.92-.59-1.43-.59-.52 0-1.04.2-1.43.59L10.3 9.45l-7.72 7.72c-.78.78-.78 2.05 0 2.83L4 21.41c.39.39.9.59 1.41.59.51 0 1.02-.2 1.41-.59l7.78-7.78 2.81-2.81c.8-.78.8-2.07 0-2.86zM5.41 20L4 18.59l7.72-7.72 1.47 1.35L5.41 20z\"/>\n",
              "  </svg>\n",
              "      </button>\n",
              "      \n",
              "  <style>\n",
              "    .colab-df-container {\n",
              "      display:flex;\n",
              "      flex-wrap:wrap;\n",
              "      gap: 12px;\n",
              "    }\n",
              "\n",
              "    .colab-df-convert {\n",
              "      background-color: #E8F0FE;\n",
              "      border: none;\n",
              "      border-radius: 50%;\n",
              "      cursor: pointer;\n",
              "      display: none;\n",
              "      fill: #1967D2;\n",
              "      height: 32px;\n",
              "      padding: 0 0 0 0;\n",
              "      width: 32px;\n",
              "    }\n",
              "\n",
              "    .colab-df-convert:hover {\n",
              "      background-color: #E2EBFA;\n",
              "      box-shadow: 0px 1px 2px rgba(60, 64, 67, 0.3), 0px 1px 3px 1px rgba(60, 64, 67, 0.15);\n",
              "      fill: #174EA6;\n",
              "    }\n",
              "\n",
              "    [theme=dark] .colab-df-convert {\n",
              "      background-color: #3B4455;\n",
              "      fill: #D2E3FC;\n",
              "    }\n",
              "\n",
              "    [theme=dark] .colab-df-convert:hover {\n",
              "      background-color: #434B5C;\n",
              "      box-shadow: 0px 1px 3px 1px rgba(0, 0, 0, 0.15);\n",
              "      filter: drop-shadow(0px 1px 2px rgba(0, 0, 0, 0.3));\n",
              "      fill: #FFFFFF;\n",
              "    }\n",
              "  </style>\n",
              "\n",
              "      <script>\n",
              "        const buttonEl =\n",
              "          document.querySelector('#df-2b47ae1f-3a99-4d79-93a6-f8ea808b6ec2 button.colab-df-convert');\n",
              "        buttonEl.style.display =\n",
              "          google.colab.kernel.accessAllowed ? 'block' : 'none';\n",
              "\n",
              "        async function convertToInteractive(key) {\n",
              "          const element = document.querySelector('#df-2b47ae1f-3a99-4d79-93a6-f8ea808b6ec2');\n",
              "          const dataTable =\n",
              "            await google.colab.kernel.invokeFunction('convertToInteractive',\n",
              "                                                     [key], {});\n",
              "          if (!dataTable) return;\n",
              "\n",
              "          const docLinkHtml = 'Like what you see? Visit the ' +\n",
              "            '<a target=\"_blank\" href=https://colab.research.google.com/notebooks/data_table.ipynb>data table notebook</a>'\n",
              "            + ' to learn more about interactive tables.';\n",
              "          element.innerHTML = '';\n",
              "          dataTable['output_type'] = 'display_data';\n",
              "          await google.colab.output.renderOutput(dataTable, element);\n",
              "          const docLink = document.createElement('div');\n",
              "          docLink.innerHTML = docLinkHtml;\n",
              "          element.appendChild(docLink);\n",
              "        }\n",
              "      </script>\n",
              "    </div>\n",
              "  </div>\n",
              "  "
            ],
            "text/plain": [
              "                   count           mean  ...       75%        max\n",
              "age              48842.0      38.643585  ...      48.0       90.0\n",
              "fnlwgt           48842.0  189664.134597  ...  237642.0  1490400.0\n",
              "educational-num  48842.0      10.078089  ...      12.0       16.0\n",
              "capital-gain     48842.0    1079.067626  ...       0.0    99999.0\n",
              "capital-loss     48842.0      87.502314  ...       0.0     4356.0\n",
              "hours-per-week   48842.0      40.422382  ...      45.0       99.0\n",
              "\n",
              "[6 rows x 8 columns]"
            ]
          },
          "metadata": {},
          "execution_count": 37
        }
      ]
    },
    {
      "cell_type": "markdown",
      "metadata": {
        "id": "TJ6j6i5str6x"
      },
      "source": [
        "We can see from the above satistics of the numerical features that each feature has different minimum and maximum range which may create difficulty for the classifer to learn trend. So we will be requiring normalize/standardize the data before we can pass it to machine learning algorithm"
      ]
    },
    {
      "cell_type": "markdown",
      "metadata": {
        "id": "aFJZdXLVvLCz"
      },
      "source": [
        "## *Instances Count*"
      ]
    },
    {
      "cell_type": "markdown",
      "metadata": {
        "id": "Crl0AtIfuHV4"
      },
      "source": [
        "Lets explore our target class, income. We have two classes, <=50k and >50k. Lets find out the distribution of instances in both classes "
      ]
    },
    {
      "cell_type": "code",
      "metadata": {
        "colab": {
          "base_uri": "https://localhost:8080/",
          "height": 284
        },
        "id": "0AuqNQskjKR4",
        "outputId": "aeaf63b6-f55f-4052-9387-fb32e361cbe6"
      },
      "source": [
        "# Checking number of instances in both classes\n",
        "\n",
        "sns.countplot(df['income'],label=\"Count\")\n",
        "plt.show()"
      ],
      "execution_count": 38,
      "outputs": [
        {
          "output_type": "display_data",
          "data": {
            "image/png": "[encoded data removed]",
            "text/plain": [
              "<Figure size 432x288 with 1 Axes>"
            ]
          },
          "metadata": {}
        }
      ]
    },
    {
      "cell_type": "markdown",
      "metadata": {
        "id": "PaLOxhejuyyP"
      },
      "source": [
        "From above figure we can notice that most of the poeple have less than 50K earning and only a small group of people earn more than 50K"
      ]
    },
    {
      "cell_type": "markdown",
      "metadata": {
        "id": "GS9GJs-Jvq_S"
      },
      "source": [
        "## *Education Num Vs. Income*"
      ]
    },
    {
      "cell_type": "markdown",
      "metadata": {
        "id": "hGXkjL5awUqP"
      },
      "source": [
        "We know that education is very much connected with how much someone earns so we need to see whats the relation between education num and our final target class, income"
      ]
    },
    {
      "cell_type": "code",
      "metadata": {
        "colab": {
          "base_uri": "https://localhost:8080/",
          "height": 436
        },
        "id": "l9VPFudtlo_H",
        "outputId": "e747526c-60d1-4bff-9a2b-833fc88ff9c3"
      },
      "source": [
        "# Explore Education Num vs Income\n",
        "plot = sns.factorplot(x=\"educational-num\",y=\"income\",data=df,kind=\"bar\",size = 6,palette = \"muted\")\n",
        "plot.despine(left=True)\n",
        "plot = plot.set_ylabels(\">50K probability\")"
      ],
      "execution_count": 39,
      "outputs": [
        {
          "output_type": "display_data",
          "data": {
            "image/png": "[encoded data removed]",
            "text/plain": [
              "<Figure size 432x432 with 1 Axes>"
            ]
          },
          "metadata": {}
        }
      ]
    },
    {
      "cell_type": "markdown",
      "metadata": {
        "id": "HC1XLZwIwATD"
      },
      "source": [
        "From above figure we can say that people with more education earns more which is kind of ground truth in reality as well"
      ]
    },
    {
      "cell_type": "markdown",
      "metadata": {
        "id": "WRUZC1PVwMoX"
      },
      "source": [
        "## *Hours Per Week Vs. Income*"
      ]
    },
    {
      "cell_type": "code",
      "metadata": {
        "colab": {
          "base_uri": "https://localhost:8080/",
          "height": 436
        },
        "id": "iYDBFfsDlTMM",
        "outputId": "75b7e285-c77b-49d5-8e62-b20789e753b2"
      },
      "source": [
        "# Explore Hours Per Week vs Income\n",
        "plot  = sns.factorplot(x=\"hours-per-week\",y=\"income\",data=df,kind=\"bar\",size = 6,palette = \"muted\")\n",
        "plot.despine(left=True)\n",
        "plot = plot.set_ylabels(\">50K probability\")"
      ],
      "execution_count": 40,
      "outputs": [
        {
          "output_type": "display_data",
          "data": {
            "image/png": "[encoded data removed]",
            "text/plain": [
              "<Figure size 432x432 with 1 Axes>"
            ]
          },
          "metadata": {}
        }
      ]
    },
    {
      "cell_type": "markdown",
      "metadata": {
        "id": "CuBBxdmRwix6"
      },
      "source": [
        "We can see from above figure that people who work more hours per week earn more and hence lie in >50K class. Hence we can conclude that more works = more earning"
      ]
    },
    {
      "cell_type": "markdown",
      "metadata": {
        "id": "UsriCJPhxh6V"
      },
      "source": [
        "## *Age Vs. Income*"
      ]
    },
    {
      "cell_type": "markdown",
      "metadata": {
        "id": "Y2zPiNTTxkS9"
      },
      "source": [
        "Lets see the distribution of age group in both of our classes"
      ]
    },
    {
      "cell_type": "code",
      "metadata": {
        "colab": {
          "base_uri": "https://localhost:8080/",
          "height": 221
        },
        "id": "HEbTscrumWy9",
        "outputId": "e9dc2ae3-dd79-4d14-a908-bcceb149fede"
      },
      "source": [
        "# Explore Age vs Income\n",
        "g = sns.FacetGrid(df, col='income')\n",
        "g = g.map(sns.distplot, \"age\")\n",
        "plt.show()"
      ],
      "execution_count": 41,
      "outputs": [
        {
          "output_type": "display_data",
          "data": {
            "image/png": "[encoded data removed]",
            "text/plain": [
              "<Figure size 432x216 with 2 Axes>"
            ]
          },
          "metadata": {}
        }
      ]
    },
    {
      "cell_type": "markdown",
      "metadata": {
        "id": "raaZ8QPSxr-B"
      },
      "source": [
        "From the above result we can see that both our classes contains all types of age groups, but, <=50K class has a skewed distribution of younger poeple in it, as the distribution if tilted towards left. Which is obvious in mosts of the cases as one need to have experience in order to earn more."
      ]
    },
    {
      "cell_type": "markdown",
      "metadata": {
        "id": "JQuXaeTcwzaF"
      },
      "source": [
        "## *Correlation Matrix*"
      ]
    },
    {
      "cell_type": "markdown",
      "metadata": {
        "id": "c4Xb2t52w0-v"
      },
      "source": [
        "In machine learning we need to make sure that each of our feature vector is independent of the others. This is to ensure that we have maximum varience in out individual features. If two or more features are somehow related to each other more than a decided threshold, then we need to drop those redundant features. That is why plotting correlation matrix of features is important before we pass the data to machine learning algorithms"
      ]
    },
    {
      "cell_type": "code",
      "metadata": {
        "colab": {
          "base_uri": "https://localhost:8080/",
          "height": 354
        },
        "id": "r5kKbiysk-gs",
        "outputId": "f7b2e112-1fd7-4660-b1ce-ea8c3bb38935"
      },
      "source": [
        "# Correlation matrix of numerical values\n",
        "numeric_features = ['age','fnlwgt','educational-num','capital-gain','capital-loss','hours-per-week','income']\n",
        "corr = sns.heatmap(df[numeric_features].corr(),annot=True, fmt = \".2f\", cmap = \"coolwarm\")\n",
        "plt.show()"
      ],
      "execution_count": 42,
      "outputs": [
        {
          "output_type": "display_data",
          "data": {
            "image/png": "[encoded data removed]",
            "text/plain": [
              "<Figure size 432x288 with 2 Axes>"
            ]
          },
          "metadata": {}
        }
      ]
    },
    {
      "cell_type": "markdown",
      "metadata": {
        "id": "1QWEMl6VxSer"
      },
      "source": [
        "From the above correlation matrix we can see that no numerical feature is correlated with any other. Which is good for the data hence we do not need to drop any of the features"
      ]
    },
    {
      "cell_type": "markdown",
      "metadata": {
        "id": "wsuh-pcCyWnF"
      },
      "source": [
        "# **Preparing data for Machine Learning Algorithms**"
      ]
    },
    {
      "cell_type": "markdown",
      "metadata": {
        "id": "yGJEncPEyYiT"
      },
      "source": [
        "First of all we need to separete the features into an X vector and our target class into y vector"
      ]
    },
    {
      "cell_type": "code",
      "metadata": {
        "id": "gXEuEgXrdJi6"
      },
      "source": [
        "X = df.drop(['income'], axis=1) # Extracting features\n",
        "\n",
        "y = df['income'] # Extracting target class"
      ],
      "execution_count": 43,
      "outputs": []
    },
    {
      "cell_type": "code",
      "metadata": {
        "colab": {
          "base_uri": "https://localhost:8080/",
          "height": 206
        },
        "id": "JSzRbLMVdbdx",
        "outputId": "f8c60494-45d1-486b-d365-a1d640dab2b4"
      },
      "source": [
        "X.head() # Printing the head of features to ensure that we only have features"
      ],
      "execution_count": 44,
      "outputs": [
        {
          "output_type": "execute_result",
          "data": {
            "text/html": [
              "\n",
              "  <div id=\"df-c7928be0-f2b9-4724-acd5-2b9000e48bba\">\n",
              "    <div class=\"colab-df-container\">\n",
              "      <div>\n",
              "<style scoped>\n",
              "    .dataframe tbody tr th:only-of-type {\n",
              "        vertical-align: middle;\n",
              "    }\n",
              "\n",
              "    .dataframe tbody tr th {\n",
              "        vertical-align: top;\n",
              "    }\n",
              "\n",
              "    .dataframe thead th {\n",
              "        text-align: right;\n",
              "    }\n",
              "</style>\n",
              "<table border=\"1\" class=\"dataframe\">\n",
              "  <thead>\n",
              "    <tr style=\"text-align: right;\">\n",
              "      <th></th>\n",
              "      <th>age</th>\n",
              "      <th>workclass</th>\n",
              "      <th>fnlwgt</th>\n",
              "      <th>education</th>\n",
              "      <th>educational-num</th>\n",
              "      <th>marital-status</th>\n",
              "      <th>occupation</th>\n",
              "      <th>relationship</th>\n",
              "      <th>race</th>\n",
              "      <th>gender</th>\n",
              "      <th>capital-gain</th>\n",
              "      <th>capital-loss</th>\n",
              "      <th>hours-per-week</th>\n",
              "      <th>native-country</th>\n",
              "    </tr>\n",
              "  </thead>\n",
              "  <tbody>\n",
              "    <tr>\n",
              "      <th>0</th>\n",
              "      <td>25</td>\n",
              "      <td>Private</td>\n",
              "      <td>226802</td>\n",
              "      <td>11th</td>\n",
              "      <td>7</td>\n",
              "      <td>Never-married</td>\n",
              "      <td>Machine-op-inspct</td>\n",
              "      <td>Own-child</td>\n",
              "      <td>Black</td>\n",
              "      <td>Male</td>\n",
              "      <td>0</td>\n",
              "      <td>0</td>\n",
              "      <td>40</td>\n",
              "      <td>United-States</td>\n",
              "    </tr>\n",
              "    <tr>\n",
              "      <th>1</th>\n",
              "      <td>38</td>\n",
              "      <td>Private</td>\n",
              "      <td>89814</td>\n",
              "      <td>HS-grad</td>\n",
              "      <td>9</td>\n",
              "      <td>Married-civ-spouse</td>\n",
              "      <td>Farming-fishing</td>\n",
              "      <td>Husband</td>\n",
              "      <td>White</td>\n",
              "      <td>Male</td>\n",
              "      <td>0</td>\n",
              "      <td>0</td>\n",
              "      <td>50</td>\n",
              "      <td>United-States</td>\n",
              "    </tr>\n",
              "    <tr>\n",
              "      <th>2</th>\n",
              "      <td>28</td>\n",
              "      <td>Local-gov</td>\n",
              "      <td>336951</td>\n",
              "      <td>Assoc-acdm</td>\n",
              "      <td>12</td>\n",
              "      <td>Married-civ-spouse</td>\n",
              "      <td>Protective-serv</td>\n",
              "      <td>Husband</td>\n",
              "      <td>White</td>\n",
              "      <td>Male</td>\n",
              "      <td>0</td>\n",
              "      <td>0</td>\n",
              "      <td>40</td>\n",
              "      <td>United-States</td>\n",
              "    </tr>\n",
              "    <tr>\n",
              "      <th>3</th>\n",
              "      <td>44</td>\n",
              "      <td>Private</td>\n",
              "      <td>160323</td>\n",
              "      <td>Some-college</td>\n",
              "      <td>10</td>\n",
              "      <td>Married-civ-spouse</td>\n",
              "      <td>Machine-op-inspct</td>\n",
              "      <td>Husband</td>\n",
              "      <td>Black</td>\n",
              "      <td>Male</td>\n",
              "      <td>7688</td>\n",
              "      <td>0</td>\n",
              "      <td>40</td>\n",
              "      <td>United-States</td>\n",
              "    </tr>\n",
              "    <tr>\n",
              "      <th>4</th>\n",
              "      <td>18</td>\n",
              "      <td>Private</td>\n",
              "      <td>103497</td>\n",
              "      <td>Some-college</td>\n",
              "      <td>10</td>\n",
              "      <td>Never-married</td>\n",
              "      <td>Prof-specialty</td>\n",
              "      <td>Own-child</td>\n",
              "      <td>White</td>\n",
              "      <td>Female</td>\n",
              "      <td>0</td>\n",
              "      <td>0</td>\n",
              "      <td>30</td>\n",
              "      <td>United-States</td>\n",
              "    </tr>\n",
              "  </tbody>\n",
              "</table>\n",
              "</div>\n",
              "      <button class=\"colab-df-convert\" onclick=\"convertToInteractive('df-c7928be0-f2b9-4724-acd5-2b9000e48bba')\"\n",
              "              title=\"Convert this dataframe to an interactive table.\"\n",
              "              style=\"display:none;\">\n",
              "        \n",
              "  <svg xmlns=\"http://www.w3.org/2000/svg\" height=\"24px\"viewBox=\"0 0 24 24\"\n",
              "       width=\"24px\">\n",
              "    <path d=\"M0 0h24v24H0V0z\" fill=\"none\"/>\n",
              "    <path d=\"M18.56 5.44l.94 2.06.94-2.06 2.06-.94-2.06-.94-.94-2.06-.94 2.06-2.06.94zm-11 1L8.5 8.5l.94-2.06 2.06-.94-2.06-.94L8.5 2.5l-.94 2.06-2.06.94zm10 10l.94 2.06.94-2.06 2.06-.94-2.06-.94-.94-2.06-.94 2.06-2.06.94z\"/><path d=\"M17.41 7.96l-1.37-1.37c-.4-.4-.92-.59-1.43-.59-.52 0-1.04.2-1.43.59L10.3 9.45l-7.72 7.72c-.78.78-.78 2.05 0 2.83L4 21.41c.39.39.9.59 1.41.59.51 0 1.02-.2 1.41-.59l7.78-7.78 2.81-2.81c.8-.78.8-2.07 0-2.86zM5.41 20L4 18.59l7.72-7.72 1.47 1.35L5.41 20z\"/>\n",
              "  </svg>\n",
              "      </button>\n",
              "      \n",
              "  <style>\n",
              "    .colab-df-container {\n",
              "      display:flex;\n",
              "      flex-wrap:wrap;\n",
              "      gap: 12px;\n",
              "    }\n",
              "\n",
              "    .colab-df-convert {\n",
              "      background-color: #E8F0FE;\n",
              "      border: none;\n",
              "      border-radius: 50%;\n",
              "      cursor: pointer;\n",
              "      display: none;\n",
              "      fill: #1967D2;\n",
              "      height: 32px;\n",
              "      padding: 0 0 0 0;\n",
              "      width: 32px;\n",
              "    }\n",
              "\n",
              "    .colab-df-convert:hover {\n",
              "      background-color: #E2EBFA;\n",
              "      box-shadow: 0px 1px 2px rgba(60, 64, 67, 0.3), 0px 1px 3px 1px rgba(60, 64, 67, 0.15);\n",
              "      fill: #174EA6;\n",
              "    }\n",
              "\n",
              "    [theme=dark] .colab-df-convert {\n",
              "      background-color: #3B4455;\n",
              "      fill: #D2E3FC;\n",
              "    }\n",
              "\n",
              "    [theme=dark] .colab-df-convert:hover {\n",
              "      background-color: #434B5C;\n",
              "      box-shadow: 0px 1px 3px 1px rgba(0, 0, 0, 0.15);\n",
              "      filter: drop-shadow(0px 1px 2px rgba(0, 0, 0, 0.3));\n",
              "      fill: #FFFFFF;\n",
              "    }\n",
              "  </style>\n",
              "\n",
              "      <script>\n",
              "        const buttonEl =\n",
              "          document.querySelector('#df-c7928be0-f2b9-4724-acd5-2b9000e48bba button.colab-df-convert');\n",
              "        buttonEl.style.display =\n",
              "          google.colab.kernel.accessAllowed ? 'block' : 'none';\n",
              "\n",
              "        async function convertToInteractive(key) {\n",
              "          const element = document.querySelector('#df-c7928be0-f2b9-4724-acd5-2b9000e48bba');\n",
              "          const dataTable =\n",
              "            await google.colab.kernel.invokeFunction('convertToInteractive',\n",
              "                                                     [key], {});\n",
              "          if (!dataTable) return;\n",
              "\n",
              "          const docLinkHtml = 'Like what you see? Visit the ' +\n",
              "            '<a target=\"_blank\" href=https://colab.research.google.com/notebooks/data_table.ipynb>data table notebook</a>'\n",
              "            + ' to learn more about interactive tables.';\n",
              "          element.innerHTML = '';\n",
              "          dataTable['output_type'] = 'display_data';\n",
              "          await google.colab.output.renderOutput(dataTable, element);\n",
              "          const docLink = document.createElement('div');\n",
              "          docLink.innerHTML = docLinkHtml;\n",
              "          element.appendChild(docLink);\n",
              "        }\n",
              "      </script>\n",
              "    </div>\n",
              "  </div>\n",
              "  "
            ],
            "text/plain": [
              "   age  workclass  fnlwgt  ... capital-loss  hours-per-week native-country\n",
              "0   25    Private  226802  ...            0              40  United-States\n",
              "1   38    Private   89814  ...            0              50  United-States\n",
              "2   28  Local-gov  336951  ...            0              40  United-States\n",
              "3   44    Private  160323  ...            0              40  United-States\n",
              "4   18    Private  103497  ...            0              30  United-States\n",
              "\n",
              "[5 rows x 14 columns]"
            ]
          },
          "metadata": {},
          "execution_count": 44
        }
      ]
    },
    {
      "cell_type": "markdown",
      "metadata": {
        "id": "PAUrOl3Zzd0v"
      },
      "source": [
        "Now we need to split the data so that we use 2/3 for training and 1/3 for testing the models as suggested in requirements"
      ]
    },
    {
      "cell_type": "code",
      "metadata": {
        "id": "ifKuDtjzdky5"
      },
      "source": [
        "X_train, X_test, y_train, y_test = train_test_split(X, y, test_size=0.33, random_state=0) # Setting test size to 1/3"
      ],
      "execution_count": 45,
      "outputs": []
    },
    {
      "cell_type": "markdown",
      "metadata": {
        "id": "4YpyqmkEzyZs"
      },
      "source": [
        "We can see from above head of the features that they contains categorical features as well while the machine learning algorithms can only understand numbers so we need to make sure that we map these caetgories to numbers. We can do that by using LabelEncoder from sklearn"
      ]
    },
    {
      "cell_type": "code",
      "metadata": {
        "id": "WnkPZcv8d4KT"
      },
      "source": [
        "# Mapping Categorical Features to Numbers\n",
        "\n",
        "categorical = ['workclass', 'education', 'marital-status', 'occupation', 'relationship', 'race', 'gender', 'native-country']\n",
        "for feature in categorical:\n",
        "  le = LabelEncoder()\n",
        "  X_train[feature]=le.fit_transform(X_train[feature])\n",
        "  X_test[feature]=le.transform(X_test[feature])"
      ],
      "execution_count": 46,
      "outputs": []
    },
    {
      "cell_type": "code",
      "source": [
        "X_train"
      ],
      "metadata": {
        "colab": {
          "base_uri": "https://localhost:8080/",
          "height": 423
        },
        "id": "hi_da9jZVAgq",
        "outputId": "3bb69df9-bc37-4551-c5a6-fdd04a00865f"
      },
      "execution_count": 47,
      "outputs": [
        {
          "output_type": "execute_result",
          "data": {
            "text/html": [
              "\n",
              "  <div id=\"df-0439f61f-20e5-48da-a85b-9ffcebba14bd\">\n",
              "    <div class=\"colab-df-container\">\n",
              "      <div>\n",
              "<style scoped>\n",
              "    .dataframe tbody tr th:only-of-type {\n",
              "        vertical-align: middle;\n",
              "    }\n",
              "\n",
              "    .dataframe tbody tr th {\n",
              "        vertical-align: top;\n",
              "    }\n",
              "\n",
              "    .dataframe thead th {\n",
              "        text-align: right;\n",
              "    }\n",
              "</style>\n",
              "<table border=\"1\" class=\"dataframe\">\n",
              "  <thead>\n",
              "    <tr style=\"text-align: right;\">\n",
              "      <th></th>\n",
              "      <th>age</th>\n",
              "      <th>workclass</th>\n",
              "      <th>fnlwgt</th>\n",
              "      <th>education</th>\n",
              "      <th>educational-num</th>\n",
              "      <th>marital-status</th>\n",
              "      <th>occupation</th>\n",
              "      <th>relationship</th>\n",
              "      <th>race</th>\n",
              "      <th>gender</th>\n",
              "      <th>capital-gain</th>\n",
              "      <th>capital-loss</th>\n",
              "      <th>hours-per-week</th>\n",
              "      <th>native-country</th>\n",
              "    </tr>\n",
              "  </thead>\n",
              "  <tbody>\n",
              "    <tr>\n",
              "      <th>16235</th>\n",
              "      <td>27</td>\n",
              "      <td>3</td>\n",
              "      <td>133770</td>\n",
              "      <td>9</td>\n",
              "      <td>13</td>\n",
              "      <td>4</td>\n",
              "      <td>9</td>\n",
              "      <td>1</td>\n",
              "      <td>1</td>\n",
              "      <td>1</td>\n",
              "      <td>2202</td>\n",
              "      <td>0</td>\n",
              "      <td>52</td>\n",
              "      <td>29</td>\n",
              "    </tr>\n",
              "    <tr>\n",
              "      <th>32509</th>\n",
              "      <td>32</td>\n",
              "      <td>3</td>\n",
              "      <td>166634</td>\n",
              "      <td>11</td>\n",
              "      <td>9</td>\n",
              "      <td>2</td>\n",
              "      <td>6</td>\n",
              "      <td>0</td>\n",
              "      <td>2</td>\n",
              "      <td>1</td>\n",
              "      <td>0</td>\n",
              "      <td>0</td>\n",
              "      <td>40</td>\n",
              "      <td>38</td>\n",
              "    </tr>\n",
              "    <tr>\n",
              "      <th>5303</th>\n",
              "      <td>31</td>\n",
              "      <td>3</td>\n",
              "      <td>158672</td>\n",
              "      <td>1</td>\n",
              "      <td>7</td>\n",
              "      <td>5</td>\n",
              "      <td>7</td>\n",
              "      <td>1</td>\n",
              "      <td>4</td>\n",
              "      <td>1</td>\n",
              "      <td>0</td>\n",
              "      <td>0</td>\n",
              "      <td>38</td>\n",
              "      <td>32</td>\n",
              "    </tr>\n",
              "    <tr>\n",
              "      <th>39027</th>\n",
              "      <td>39</td>\n",
              "      <td>3</td>\n",
              "      <td>491000</td>\n",
              "      <td>9</td>\n",
              "      <td>13</td>\n",
              "      <td>4</td>\n",
              "      <td>3</td>\n",
              "      <td>2</td>\n",
              "      <td>2</td>\n",
              "      <td>1</td>\n",
              "      <td>0</td>\n",
              "      <td>0</td>\n",
              "      <td>45</td>\n",
              "      <td>38</td>\n",
              "    </tr>\n",
              "    <tr>\n",
              "      <th>36848</th>\n",
              "      <td>22</td>\n",
              "      <td>3</td>\n",
              "      <td>137876</td>\n",
              "      <td>15</td>\n",
              "      <td>10</td>\n",
              "      <td>4</td>\n",
              "      <td>10</td>\n",
              "      <td>1</td>\n",
              "      <td>4</td>\n",
              "      <td>1</td>\n",
              "      <td>0</td>\n",
              "      <td>0</td>\n",
              "      <td>20</td>\n",
              "      <td>38</td>\n",
              "    </tr>\n",
              "    <tr>\n",
              "      <th>...</th>\n",
              "      <td>...</td>\n",
              "      <td>...</td>\n",
              "      <td>...</td>\n",
              "      <td>...</td>\n",
              "      <td>...</td>\n",
              "      <td>...</td>\n",
              "      <td>...</td>\n",
              "      <td>...</td>\n",
              "      <td>...</td>\n",
              "      <td>...</td>\n",
              "      <td>...</td>\n",
              "      <td>...</td>\n",
              "      <td>...</td>\n",
              "      <td>...</td>\n",
              "    </tr>\n",
              "    <tr>\n",
              "      <th>21243</th>\n",
              "      <td>31</td>\n",
              "      <td>3</td>\n",
              "      <td>153078</td>\n",
              "      <td>7</td>\n",
              "      <td>12</td>\n",
              "      <td>4</td>\n",
              "      <td>2</td>\n",
              "      <td>3</td>\n",
              "      <td>3</td>\n",
              "      <td>1</td>\n",
              "      <td>0</td>\n",
              "      <td>0</td>\n",
              "      <td>50</td>\n",
              "      <td>38</td>\n",
              "    </tr>\n",
              "    <tr>\n",
              "      <th>45891</th>\n",
              "      <td>60</td>\n",
              "      <td>3</td>\n",
              "      <td>399387</td>\n",
              "      <td>5</td>\n",
              "      <td>4</td>\n",
              "      <td>5</td>\n",
              "      <td>8</td>\n",
              "      <td>4</td>\n",
              "      <td>2</td>\n",
              "      <td>0</td>\n",
              "      <td>0</td>\n",
              "      <td>0</td>\n",
              "      <td>15</td>\n",
              "      <td>38</td>\n",
              "    </tr>\n",
              "    <tr>\n",
              "      <th>42613</th>\n",
              "      <td>55</td>\n",
              "      <td>3</td>\n",
              "      <td>175942</td>\n",
              "      <td>10</td>\n",
              "      <td>16</td>\n",
              "      <td>2</td>\n",
              "      <td>9</td>\n",
              "      <td>0</td>\n",
              "      <td>4</td>\n",
              "      <td>1</td>\n",
              "      <td>0</td>\n",
              "      <td>1977</td>\n",
              "      <td>55</td>\n",
              "      <td>38</td>\n",
              "    </tr>\n",
              "    <tr>\n",
              "      <th>43567</th>\n",
              "      <td>29</td>\n",
              "      <td>5</td>\n",
              "      <td>85572</td>\n",
              "      <td>1</td>\n",
              "      <td>7</td>\n",
              "      <td>2</td>\n",
              "      <td>7</td>\n",
              "      <td>5</td>\n",
              "      <td>4</td>\n",
              "      <td>0</td>\n",
              "      <td>0</td>\n",
              "      <td>0</td>\n",
              "      <td>5</td>\n",
              "      <td>38</td>\n",
              "    </tr>\n",
              "    <tr>\n",
              "      <th>2732</th>\n",
              "      <td>59</td>\n",
              "      <td>6</td>\n",
              "      <td>136819</td>\n",
              "      <td>12</td>\n",
              "      <td>14</td>\n",
              "      <td>2</td>\n",
              "      <td>9</td>\n",
              "      <td>0</td>\n",
              "      <td>4</td>\n",
              "      <td>1</td>\n",
              "      <td>0</td>\n",
              "      <td>0</td>\n",
              "      <td>8</td>\n",
              "      <td>38</td>\n",
              "    </tr>\n",
              "  </tbody>\n",
              "</table>\n",
              "<p>32724 rows × 14 columns</p>\n",
              "</div>\n",
              "      <button class=\"colab-df-convert\" onclick=\"convertToInteractive('df-0439f61f-20e5-48da-a85b-9ffcebba14bd')\"\n",
              "              title=\"Convert this dataframe to an interactive table.\"\n",
              "              style=\"display:none;\">\n",
              "        \n",
              "  <svg xmlns=\"http://www.w3.org/2000/svg\" height=\"24px\"viewBox=\"0 0 24 24\"\n",
              "       width=\"24px\">\n",
              "    <path d=\"M0 0h24v24H0V0z\" fill=\"none\"/>\n",
              "    <path d=\"M18.56 5.44l.94 2.06.94-2.06 2.06-.94-2.06-.94-.94-2.06-.94 2.06-2.06.94zm-11 1L8.5 8.5l.94-2.06 2.06-.94-2.06-.94L8.5 2.5l-.94 2.06-2.06.94zm10 10l.94 2.06.94-2.06 2.06-.94-2.06-.94-.94-2.06-.94 2.06-2.06.94z\"/><path d=\"M17.41 7.96l-1.37-1.37c-.4-.4-.92-.59-1.43-.59-.52 0-1.04.2-1.43.59L10.3 9.45l-7.72 7.72c-.78.78-.78 2.05 0 2.83L4 21.41c.39.39.9.59 1.41.59.51 0 1.02-.2 1.41-.59l7.78-7.78 2.81-2.81c.8-.78.8-2.07 0-2.86zM5.41 20L4 18.59l7.72-7.72 1.47 1.35L5.41 20z\"/>\n",
              "  </svg>\n",
              "      </button>\n",
              "      \n",
              "  <style>\n",
              "    .colab-df-container {\n",
              "      display:flex;\n",
              "      flex-wrap:wrap;\n",
              "      gap: 12px;\n",
              "    }\n",
              "\n",
              "    .colab-df-convert {\n",
              "      background-color: #E8F0FE;\n",
              "      border: none;\n",
              "      border-radius: 50%;\n",
              "      cursor: pointer;\n",
              "      display: none;\n",
              "      fill: #1967D2;\n",
              "      height: 32px;\n",
              "      padding: 0 0 0 0;\n",
              "      width: 32px;\n",
              "    }\n",
              "\n",
              "    .colab-df-convert:hover {\n",
              "      background-color: #E2EBFA;\n",
              "      box-shadow: 0px 1px 2px rgba(60, 64, 67, 0.3), 0px 1px 3px 1px rgba(60, 64, 67, 0.15);\n",
              "      fill: #174EA6;\n",
              "    }\n",
              "\n",
              "    [theme=dark] .colab-df-convert {\n",
              "      background-color: #3B4455;\n",
              "      fill: #D2E3FC;\n",
              "    }\n",
              "\n",
              "    [theme=dark] .colab-df-convert:hover {\n",
              "      background-color: #434B5C;\n",
              "      box-shadow: 0px 1px 3px 1px rgba(0, 0, 0, 0.15);\n",
              "      filter: drop-shadow(0px 1px 2px rgba(0, 0, 0, 0.3));\n",
              "      fill: #FFFFFF;\n",
              "    }\n",
              "  </style>\n",
              "\n",
              "      <script>\n",
              "        const buttonEl =\n",
              "          document.querySelector('#df-0439f61f-20e5-48da-a85b-9ffcebba14bd button.colab-df-convert');\n",
              "        buttonEl.style.display =\n",
              "          google.colab.kernel.accessAllowed ? 'block' : 'none';\n",
              "\n",
              "        async function convertToInteractive(key) {\n",
              "          const element = document.querySelector('#df-0439f61f-20e5-48da-a85b-9ffcebba14bd');\n",
              "          const dataTable =\n",
              "            await google.colab.kernel.invokeFunction('convertToInteractive',\n",
              "                                                     [key], {});\n",
              "          if (!dataTable) return;\n",
              "\n",
              "          const docLinkHtml = 'Like what you see? Visit the ' +\n",
              "            '<a target=\"_blank\" href=https://colab.research.google.com/notebooks/data_table.ipynb>data table notebook</a>'\n",
              "            + ' to learn more about interactive tables.';\n",
              "          element.innerHTML = '';\n",
              "          dataTable['output_type'] = 'display_data';\n",
              "          await google.colab.output.renderOutput(dataTable, element);\n",
              "          const docLink = document.createElement('div');\n",
              "          docLink.innerHTML = docLinkHtml;\n",
              "          element.appendChild(docLink);\n",
              "        }\n",
              "      </script>\n",
              "    </div>\n",
              "  </div>\n",
              "  "
            ],
            "text/plain": [
              "       age  workclass  fnlwgt  ...  capital-loss  hours-per-week  native-country\n",
              "16235   27          3  133770  ...             0              52              29\n",
              "32509   32          3  166634  ...             0              40              38\n",
              "5303    31          3  158672  ...             0              38              32\n",
              "39027   39          3  491000  ...             0              45              38\n",
              "36848   22          3  137876  ...             0              20              38\n",
              "...    ...        ...     ...  ...           ...             ...             ...\n",
              "21243   31          3  153078  ...             0              50              38\n",
              "45891   60          3  399387  ...             0              15              38\n",
              "42613   55          3  175942  ...          1977              55              38\n",
              "43567   29          5   85572  ...             0               5              38\n",
              "2732    59          6  136819  ...             0               8              38\n",
              "\n",
              "[32724 rows x 14 columns]"
            ]
          },
          "metadata": {},
          "execution_count": 47
        }
      ]
    },
    {
      "cell_type": "markdown",
      "metadata": {
        "id": "iZYM2zvv0HQg"
      },
      "source": [
        "Data statistics suggested us to normalize/standardize the data. Machine learning models work fast and good with standardized data. We can do this by using StandarScalar from sklearn"
      ]
    },
    {
      "cell_type": "code",
      "metadata": {
        "id": "aKEG0G5IeqcO"
      },
      "source": [
        "# Standardizing the features\n",
        "\n",
        "scalar = StandardScaler()\n",
        "X_train = pd.DataFrame(scalar.fit_transform(X_train), columns=X.columns)\n",
        "X_test = pd.DataFrame(scalar.transform(X_test), columns=X.columns)"
      ],
      "execution_count": 48,
      "outputs": []
    },
    {
      "cell_type": "code",
      "metadata": {
        "colab": {
          "base_uri": "https://localhost:8080/",
          "height": 206
        },
        "id": "4yclLqH6flQP",
        "outputId": "745ff706-10ec-4f77-e38f-f76a82c05bc1"
      },
      "source": [
        "X_train.head() # Printing the head of standardized features"
      ],
      "execution_count": 49,
      "outputs": [
        {
          "output_type": "execute_result",
          "data": {
            "text/html": [
              "\n",
              "  <div id=\"df-ebb4b206-e152-4e24-a29c-4b7082f0c944\">\n",
              "    <div class=\"colab-df-container\">\n",
              "      <div>\n",
              "<style scoped>\n",
              "    .dataframe tbody tr th:only-of-type {\n",
              "        vertical-align: middle;\n",
              "    }\n",
              "\n",
              "    .dataframe tbody tr th {\n",
              "        vertical-align: top;\n",
              "    }\n",
              "\n",
              "    .dataframe thead th {\n",
              "        text-align: right;\n",
              "    }\n",
              "</style>\n",
              "<table border=\"1\" class=\"dataframe\">\n",
              "  <thead>\n",
              "    <tr style=\"text-align: right;\">\n",
              "      <th></th>\n",
              "      <th>age</th>\n",
              "      <th>workclass</th>\n",
              "      <th>fnlwgt</th>\n",
              "      <th>education</th>\n",
              "      <th>educational-num</th>\n",
              "      <th>marital-status</th>\n",
              "      <th>occupation</th>\n",
              "      <th>relationship</th>\n",
              "      <th>race</th>\n",
              "      <th>gender</th>\n",
              "      <th>capital-gain</th>\n",
              "      <th>capital-loss</th>\n",
              "      <th>hours-per-week</th>\n",
              "      <th>native-country</th>\n",
              "    </tr>\n",
              "  </thead>\n",
              "  <tbody>\n",
              "    <tr>\n",
              "      <th>0</th>\n",
              "      <td>-0.851206</td>\n",
              "      <td>-0.093147</td>\n",
              "      <td>-0.528064</td>\n",
              "      <td>-0.332475</td>\n",
              "      <td>1.142238</td>\n",
              "      <td>0.924328</td>\n",
              "      <td>0.719452</td>\n",
              "      <td>-0.276577</td>\n",
              "      <td>-3.181817</td>\n",
              "      <td>0.702153</td>\n",
              "      <td>0.157777</td>\n",
              "      <td>-0.216002</td>\n",
              "      <td>0.931494</td>\n",
              "      <td>-1.244123</td>\n",
              "    </tr>\n",
              "    <tr>\n",
              "      <th>1</th>\n",
              "      <td>-0.487335</td>\n",
              "      <td>-0.093147</td>\n",
              "      <td>-0.216837</td>\n",
              "      <td>0.182599</td>\n",
              "      <td>-0.417739</td>\n",
              "      <td>-0.402675</td>\n",
              "      <td>-0.039179</td>\n",
              "      <td>-0.899346</td>\n",
              "      <td>-1.991133</td>\n",
              "      <td>0.702153</td>\n",
              "      <td>-0.144041</td>\n",
              "      <td>-0.216002</td>\n",
              "      <td>-0.033991</td>\n",
              "      <td>0.257765</td>\n",
              "    </tr>\n",
              "    <tr>\n",
              "      <th>2</th>\n",
              "      <td>-0.560109</td>\n",
              "      <td>-0.093147</td>\n",
              "      <td>-0.292238</td>\n",
              "      <td>-2.392769</td>\n",
              "      <td>-1.197727</td>\n",
              "      <td>1.587830</td>\n",
              "      <td>0.213698</td>\n",
              "      <td>-0.276577</td>\n",
              "      <td>0.390236</td>\n",
              "      <td>0.702153</td>\n",
              "      <td>-0.144041</td>\n",
              "      <td>-0.216002</td>\n",
              "      <td>-0.194905</td>\n",
              "      <td>-0.743494</td>\n",
              "    </tr>\n",
              "    <tr>\n",
              "      <th>3</th>\n",
              "      <td>0.022085</td>\n",
              "      <td>-0.093147</td>\n",
              "      <td>2.854955</td>\n",
              "      <td>-0.332475</td>\n",
              "      <td>1.142238</td>\n",
              "      <td>0.924328</td>\n",
              "      <td>-0.797809</td>\n",
              "      <td>0.346192</td>\n",
              "      <td>-1.991133</td>\n",
              "      <td>0.702153</td>\n",
              "      <td>-0.144041</td>\n",
              "      <td>-0.216002</td>\n",
              "      <td>0.368295</td>\n",
              "      <td>0.257765</td>\n",
              "    </tr>\n",
              "    <tr>\n",
              "      <th>4</th>\n",
              "      <td>-1.215078</td>\n",
              "      <td>-0.093147</td>\n",
              "      <td>-0.489179</td>\n",
              "      <td>1.212746</td>\n",
              "      <td>-0.027744</td>\n",
              "      <td>0.924328</td>\n",
              "      <td>0.972329</td>\n",
              "      <td>-0.276577</td>\n",
              "      <td>0.390236</td>\n",
              "      <td>0.702153</td>\n",
              "      <td>-0.144041</td>\n",
              "      <td>-0.216002</td>\n",
              "      <td>-1.643133</td>\n",
              "      <td>0.257765</td>\n",
              "    </tr>\n",
              "  </tbody>\n",
              "</table>\n",
              "</div>\n",
              "      <button class=\"colab-df-convert\" onclick=\"convertToInteractive('df-ebb4b206-e152-4e24-a29c-4b7082f0c944')\"\n",
              "              title=\"Convert this dataframe to an interactive table.\"\n",
              "              style=\"display:none;\">\n",
              "        \n",
              "  <svg xmlns=\"http://www.w3.org/2000/svg\" height=\"24px\"viewBox=\"0 0 24 24\"\n",
              "       width=\"24px\">\n",
              "    <path d=\"M0 0h24v24H0V0z\" fill=\"none\"/>\n",
              "    <path d=\"M18.56 5.44l.94 2.06.94-2.06 2.06-.94-2.06-.94-.94-2.06-.94 2.06-2.06.94zm-11 1L8.5 8.5l.94-2.06 2.06-.94-2.06-.94L8.5 2.5l-.94 2.06-2.06.94zm10 10l.94 2.06.94-2.06 2.06-.94-2.06-.94-.94-2.06-.94 2.06-2.06.94z\"/><path d=\"M17.41 7.96l-1.37-1.37c-.4-.4-.92-.59-1.43-.59-.52 0-1.04.2-1.43.59L10.3 9.45l-7.72 7.72c-.78.78-.78 2.05 0 2.83L4 21.41c.39.39.9.59 1.41.59.51 0 1.02-.2 1.41-.59l7.78-7.78 2.81-2.81c.8-.78.8-2.07 0-2.86zM5.41 20L4 18.59l7.72-7.72 1.47 1.35L5.41 20z\"/>\n",
              "  </svg>\n",
              "      </button>\n",
              "      \n",
              "  <style>\n",
              "    .colab-df-container {\n",
              "      display:flex;\n",
              "      flex-wrap:wrap;\n",
              "      gap: 12px;\n",
              "    }\n",
              "\n",
              "    .colab-df-convert {\n",
              "      background-color: #E8F0FE;\n",
              "      border: none;\n",
              "      border-radius: 50%;\n",
              "      cursor: pointer;\n",
              "      display: none;\n",
              "      fill: #1967D2;\n",
              "      height: 32px;\n",
              "      padding: 0 0 0 0;\n",
              "      width: 32px;\n",
              "    }\n",
              "\n",
              "    .colab-df-convert:hover {\n",
              "      background-color: #E2EBFA;\n",
              "      box-shadow: 0px 1px 2px rgba(60, 64, 67, 0.3), 0px 1px 3px 1px rgba(60, 64, 67, 0.15);\n",
              "      fill: #174EA6;\n",
              "    }\n",
              "\n",
              "    [theme=dark] .colab-df-convert {\n",
              "      background-color: #3B4455;\n",
              "      fill: #D2E3FC;\n",
              "    }\n",
              "\n",
              "    [theme=dark] .colab-df-convert:hover {\n",
              "      background-color: #434B5C;\n",
              "      box-shadow: 0px 1px 3px 1px rgba(0, 0, 0, 0.15);\n",
              "      filter: drop-shadow(0px 1px 2px rgba(0, 0, 0, 0.3));\n",
              "      fill: #FFFFFF;\n",
              "    }\n",
              "  </style>\n",
              "\n",
              "      <script>\n",
              "        const buttonEl =\n",
              "          document.querySelector('#df-ebb4b206-e152-4e24-a29c-4b7082f0c944 button.colab-df-convert');\n",
              "        buttonEl.style.display =\n",
              "          google.colab.kernel.accessAllowed ? 'block' : 'none';\n",
              "\n",
              "        async function convertToInteractive(key) {\n",
              "          const element = document.querySelector('#df-ebb4b206-e152-4e24-a29c-4b7082f0c944');\n",
              "          const dataTable =\n",
              "            await google.colab.kernel.invokeFunction('convertToInteractive',\n",
              "                                                     [key], {});\n",
              "          if (!dataTable) return;\n",
              "\n",
              "          const docLinkHtml = 'Like what you see? Visit the ' +\n",
              "            '<a target=\"_blank\" href=https://colab.research.google.com/notebooks/data_table.ipynb>data table notebook</a>'\n",
              "            + ' to learn more about interactive tables.';\n",
              "          element.innerHTML = '';\n",
              "          dataTable['output_type'] = 'display_data';\n",
              "          await google.colab.output.renderOutput(dataTable, element);\n",
              "          const docLink = document.createElement('div');\n",
              "          docLink.innerHTML = docLinkHtml;\n",
              "          element.appendChild(docLink);\n",
              "        }\n",
              "      </script>\n",
              "    </div>\n",
              "  </div>\n",
              "  "
            ],
            "text/plain": [
              "        age  workclass    fnlwgt  ...  capital-loss  hours-per-week  native-country\n",
              "0 -0.851206  -0.093147 -0.528064  ...     -0.216002        0.931494       -1.244123\n",
              "1 -0.487335  -0.093147 -0.216837  ...     -0.216002       -0.033991        0.257765\n",
              "2 -0.560109  -0.093147 -0.292238  ...     -0.216002       -0.194905       -0.743494\n",
              "3  0.022085  -0.093147  2.854955  ...     -0.216002        0.368295        0.257765\n",
              "4 -1.215078  -0.093147 -0.489179  ...     -0.216002       -1.643133        0.257765\n",
              "\n",
              "[5 rows x 14 columns]"
            ]
          },
          "metadata": {},
          "execution_count": 49
        }
      ]
    },
    {
      "cell_type": "markdown",
      "metadata": {
        "id": "sGfgCKUI0fZY"
      },
      "source": [
        "From the above output we can see that our data is now standardized and now we can feed it to machine learning algorithm"
      ]
    },
    {
      "cell_type": "markdown",
      "metadata": {
        "id": "wJGOoncu0qXy"
      },
      "source": [
        "# **Logistic Regression**"
      ]
    },
    {
      "cell_type": "code",
      "metadata": {
        "id": "N_oW0xF0gNXl"
      },
      "source": [
        "LR = LogisticRegression() # Intializing Logistic Regression\n",
        "LR.fit(X_train,y_train) # Trianing the model on training data\n",
        "y_pred = LR.predict(X_test) # Calculating predictions on test data"
      ],
      "execution_count": 50,
      "outputs": []
    },
    {
      "cell_type": "markdown",
      "metadata": {
        "id": "rYXd4Xdd15B4"
      },
      "source": [
        "## *Classification Report*"
      ]
    },
    {
      "cell_type": "code",
      "metadata": {
        "colab": {
          "base_uri": "https://localhost:8080/"
        },
        "id": "kffTdc_y19Wg",
        "outputId": "61f325c0-76c2-44fb-c83a-b86071ba4a60"
      },
      "source": [
        "print(classification_report(y_test, y_pred)) # Printing the confusion matrix"
      ],
      "execution_count": 51,
      "outputs": [
        {
          "output_type": "stream",
          "name": "stdout",
          "text": [
            "              precision    recall  f1-score   support\n",
            "\n",
            "       <=50K       0.84      0.94      0.89     12240\n",
            "        >50K       0.71      0.45      0.55      3878\n",
            "\n",
            "    accuracy                           0.82     16118\n",
            "   macro avg       0.77      0.69      0.72     16118\n",
            "weighted avg       0.81      0.82      0.81     16118\n",
            "\n"
          ]
        }
      ]
    },
    {
      "cell_type": "markdown",
      "metadata": {
        "id": "T7ow_-Yj3B8M"
      },
      "source": [
        "From the above classification report we can see that we are getting the final accuracy of **82%** which is good without setting any parameters."
      ]
    },
    {
      "cell_type": "markdown",
      "metadata": {
        "id": "xYrY5CI_w1IK"
      },
      "source": [
        "# **Guassian Naive Bayes**"
      ]
    },
    {
      "cell_type": "code",
      "metadata": {
        "id": "W85EOYPUqa_J"
      },
      "source": [
        "GNB = GaussianNB() # Initializing Naive Bayes\n",
        "GNB.fit(X_train, y_train) # Training the Model on Training Data\n",
        "y_pred = GNB.predict(X_test) # Predicting from model on test data"
      ],
      "execution_count": 52,
      "outputs": []
    },
    {
      "cell_type": "markdown",
      "metadata": {
        "id": "OQXFNAKzxYnm"
      },
      "source": [
        "## *Classification Report*"
      ]
    },
    {
      "cell_type": "code",
      "metadata": {
        "colab": {
          "base_uri": "https://localhost:8080/"
        },
        "id": "VAF--0YVqqqj",
        "outputId": "8ae25d7b-791a-4faa-eff6-945198e8b8e4"
      },
      "source": [
        "print(classification_report(y_test, y_pred)) # Printing the confusion matrix"
      ],
      "execution_count": 53,
      "outputs": [
        {
          "output_type": "stream",
          "name": "stdout",
          "text": [
            "              precision    recall  f1-score   support\n",
            "\n",
            "       <=50K       0.82      0.95      0.88     12240\n",
            "        >50K       0.68      0.35      0.46      3878\n",
            "\n",
            "    accuracy                           0.80     16118\n",
            "   macro avg       0.75      0.65      0.67     16118\n",
            "weighted avg       0.79      0.80      0.78     16118\n",
            "\n"
          ]
        }
      ]
    },
    {
      "cell_type": "markdown",
      "metadata": {
        "id": "djljhHOYxMmA"
      },
      "source": [
        "From the above classification report we can see that we are getting the final accuracy of **80%** which is good without setting any parameters but it is less than that of Logistic Regression"
      ]
    },
    {
      "cell_type": "markdown",
      "metadata": {
        "id": "69VvdY7NJI4t"
      },
      "source": [
        "# **K-Nearest Neighbhours**\n"
      ]
    },
    {
      "cell_type": "code",
      "metadata": {
        "id": "47pYUhJIJQU6"
      },
      "source": [
        "KNN = KNeighborsClassifier(n_neighbors=18) # Initializing the model with tuned K\n",
        "KNN.fit(X_train, y_train) # Fitting the model on training data\n",
        "y_pred = KNN.predict(X_test) # Predicting from model on test data"
      ],
      "execution_count": 54,
      "outputs": []
    },
    {
      "cell_type": "markdown",
      "metadata": {
        "id": "Y9T0d-LjJqQV"
      },
      "source": [
        "## *Classification Report*"
      ]
    },
    {
      "cell_type": "code",
      "metadata": {
        "colab": {
          "base_uri": "https://localhost:8080/"
        },
        "id": "KGSTqE1AJgAz",
        "outputId": "9a76f125-a3b0-48b7-d42d-3bd431ba71f3"
      },
      "source": [
        "print(classification_report(y_test, y_pred)) # Printing the confusion matrix"
      ],
      "execution_count": 55,
      "outputs": [
        {
          "output_type": "stream",
          "name": "stdout",
          "text": [
            "              precision    recall  f1-score   support\n",
            "\n",
            "       <=50K       0.87      0.93      0.90     12240\n",
            "        >50K       0.71      0.55      0.62      3878\n",
            "\n",
            "    accuracy                           0.84     16118\n",
            "   macro avg       0.79      0.74      0.76     16118\n",
            "weighted avg       0.83      0.84      0.83     16118\n",
            "\n"
          ]
        }
      ]
    },
    {
      "cell_type": "markdown",
      "metadata": {
        "id": "x5eh43doJ7n7"
      },
      "source": [
        "From above classificatin report we can see that KNN gives slightly a better accuracy (84%) than the other algorithms. So I ll be using KNN to deploy the heroku application"
      ]
    },
    {
      "cell_type": "markdown",
      "source": [
        "# **Exporting Model Files**\n"
      ],
      "metadata": {
        "id": "mZZ7B25_ZvUE"
      }
    },
    {
      "cell_type": "code",
      "source": [
        "joblib.dump(KNN, \"model.pkl\") # Exporting the model\n",
        "joblib.dump(scalar, \"s_scaler.pkl\") # Exporting the standard scalar\n",
        "joblib.dump(le, \"label_ecnoder.pkl\") # Exporting the label encoder\n",
        "joblib.dump(X_test, \"train_labels.pkl\") # Exporting train file for label encoder"
      ],
      "metadata": {
        "colab": {
          "base_uri": "https://localhost:8080/"
        },
        "id": "8Vmz6eBgM8QB",
        "outputId": "27bc18c2-0524-4e5a-996a-2a4bbf6ce423"
      },
      "execution_count": 56,
      "outputs": [
        {
          "output_type": "execute_result",
          "data": {
            "text/plain": [
              "['train_labels.pkl']"
            ]
          },
          "metadata": {},
          "execution_count": 56
        }
      ]
    }
  ]
}